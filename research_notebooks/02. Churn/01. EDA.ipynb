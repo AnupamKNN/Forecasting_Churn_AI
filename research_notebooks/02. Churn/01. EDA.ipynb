{
 "cells": [
  {
   "cell_type": "code",
   "execution_count": 3,
   "id": "afe7e3f6",
   "metadata": {},
   "outputs": [],
   "source": [
    "import os\n",
    "import pandas as pd\n",
    "import numpy as np\n",
    "import matplotlib.pyplot as plt\n",
    "import seaborn as sns\n",
    "\n",
    "import warnings\n",
    "warnings.filterwarnings(\"ignore\")\n",
    "\n",
    "%matplotlib inline"
   ]
  },
  {
   "cell_type": "code",
   "execution_count": 2,
   "id": "f78757c0",
   "metadata": {},
   "outputs": [
    {
     "data": {
      "text/plain": [
       "'/home/anupam9k/AI_Resume_Projects/02. Smart_Forecasting_&_Churn_AI/research_notebooks/02. Churn'"
      ]
     },
     "execution_count": 2,
     "metadata": {},
     "output_type": "execute_result"
    }
   ],
   "source": [
    "%pwd"
   ]
  },
  {
   "cell_type": "code",
   "execution_count": 7,
   "id": "bfe3e5bb",
   "metadata": {},
   "outputs": [],
   "source": [
    "os.chdir(\"../\")"
   ]
  },
  {
   "cell_type": "code",
   "execution_count": 8,
   "id": "e371d48b",
   "metadata": {},
   "outputs": [
    {
     "data": {
      "text/plain": [
       "'/home/anupam9k/AI_Resume_Projects/02. Smart_Forecasting_&_Churn_AI'"
      ]
     },
     "execution_count": 8,
     "metadata": {},
     "output_type": "execute_result"
    }
   ],
   "source": [
    "%pwd"
   ]
  },
  {
   "cell_type": "markdown",
   "id": "2695db7b",
   "metadata": {},
   "source": [
    "### Load Dataset"
   ]
  },
  {
   "cell_type": "code",
   "execution_count": 9,
   "id": "a988485b",
   "metadata": {},
   "outputs": [],
   "source": [
    "df = pd.read_csv('research_notebooks/Data/churn_data_v2.csv')"
   ]
  },
  {
   "cell_type": "markdown",
   "id": "5d944af0",
   "metadata": {},
   "source": [
    "### Load Top 5 Rows"
   ]
  },
  {
   "cell_type": "code",
   "execution_count": 10,
   "id": "8ac2c5d4",
   "metadata": {},
   "outputs": [
    {
     "data": {
      "text/html": [
       "<div>\n",
       "<style scoped>\n",
       "    .dataframe tbody tr th:only-of-type {\n",
       "        vertical-align: middle;\n",
       "    }\n",
       "\n",
       "    .dataframe tbody tr th {\n",
       "        vertical-align: top;\n",
       "    }\n",
       "\n",
       "    .dataframe thead th {\n",
       "        text-align: right;\n",
       "    }\n",
       "</style>\n",
       "<table border=\"1\" class=\"dataframe\">\n",
       "  <thead>\n",
       "    <tr style=\"text-align: right;\">\n",
       "      <th></th>\n",
       "      <th>Tenure</th>\n",
       "      <th>Monthly_Charges</th>\n",
       "      <th>Total_Charges</th>\n",
       "      <th>Support_Calls</th>\n",
       "      <th>Internet_Usage</th>\n",
       "      <th>Contract_Type</th>\n",
       "      <th>Payment_Method</th>\n",
       "      <th>Gender</th>\n",
       "      <th>Senior_Citizen</th>\n",
       "      <th>Device_Type</th>\n",
       "      <th>Plan_Type</th>\n",
       "      <th>Churn</th>\n",
       "    </tr>\n",
       "  </thead>\n",
       "  <tbody>\n",
       "    <tr>\n",
       "      <th>0</th>\n",
       "      <td>16</td>\n",
       "      <td>113.67</td>\n",
       "      <td>1830.01</td>\n",
       "      <td>3</td>\n",
       "      <td>29.24</td>\n",
       "      <td>2</td>\n",
       "      <td>Cash</td>\n",
       "      <td>Other</td>\n",
       "      <td>0</td>\n",
       "      <td>Desktop</td>\n",
       "      <td>Basic</td>\n",
       "      <td>1</td>\n",
       "    </tr>\n",
       "    <tr>\n",
       "      <th>1</th>\n",
       "      <td>33</td>\n",
       "      <td>79.14</td>\n",
       "      <td>2637.01</td>\n",
       "      <td>2</td>\n",
       "      <td>46.78</td>\n",
       "      <td>0</td>\n",
       "      <td>Cash</td>\n",
       "      <td>Other</td>\n",
       "      <td>0</td>\n",
       "      <td>Tablet</td>\n",
       "      <td>Premium</td>\n",
       "      <td>1</td>\n",
       "    </tr>\n",
       "    <tr>\n",
       "      <th>2</th>\n",
       "      <td>54</td>\n",
       "      <td>103.80</td>\n",
       "      <td>5617.29</td>\n",
       "      <td>2</td>\n",
       "      <td>30.55</td>\n",
       "      <td>2</td>\n",
       "      <td>UPI</td>\n",
       "      <td>Other</td>\n",
       "      <td>0</td>\n",
       "      <td>Mobile</td>\n",
       "      <td>Basic</td>\n",
       "      <td>1</td>\n",
       "    </tr>\n",
       "    <tr>\n",
       "      <th>3</th>\n",
       "      <td>37</td>\n",
       "      <td>92.47</td>\n",
       "      <td>3413.67</td>\n",
       "      <td>2</td>\n",
       "      <td>89.01</td>\n",
       "      <td>0</td>\n",
       "      <td>UPI</td>\n",
       "      <td>Female</td>\n",
       "      <td>0</td>\n",
       "      <td>Desktop</td>\n",
       "      <td>Unlimited</td>\n",
       "      <td>1</td>\n",
       "    </tr>\n",
       "    <tr>\n",
       "      <th>4</th>\n",
       "      <td>20</td>\n",
       "      <td>71.72</td>\n",
       "      <td>1437.29</td>\n",
       "      <td>0</td>\n",
       "      <td>33.73</td>\n",
       "      <td>1</td>\n",
       "      <td>Auto-debit</td>\n",
       "      <td>Female</td>\n",
       "      <td>0</td>\n",
       "      <td>Desktop</td>\n",
       "      <td>Basic</td>\n",
       "      <td>0</td>\n",
       "    </tr>\n",
       "  </tbody>\n",
       "</table>\n",
       "</div>"
      ],
      "text/plain": [
       "   Tenure  Monthly_Charges  Total_Charges  Support_Calls  Internet_Usage  \\\n",
       "0      16           113.67        1830.01              3           29.24   \n",
       "1      33            79.14        2637.01              2           46.78   \n",
       "2      54           103.80        5617.29              2           30.55   \n",
       "3      37            92.47        3413.67              2           89.01   \n",
       "4      20            71.72        1437.29              0           33.73   \n",
       "\n",
       "   Contract_Type Payment_Method  Gender  Senior_Citizen Device_Type  \\\n",
       "0              2           Cash   Other               0     Desktop   \n",
       "1              0           Cash   Other               0      Tablet   \n",
       "2              2            UPI   Other               0      Mobile   \n",
       "3              0            UPI  Female               0     Desktop   \n",
       "4              1     Auto-debit  Female               0     Desktop   \n",
       "\n",
       "   Plan_Type  Churn  \n",
       "0      Basic      1  \n",
       "1    Premium      1  \n",
       "2      Basic      1  \n",
       "3  Unlimited      1  \n",
       "4      Basic      0  "
      ]
     },
     "execution_count": 10,
     "metadata": {},
     "output_type": "execute_result"
    }
   ],
   "source": [
    "df.head()"
   ]
  },
  {
   "cell_type": "markdown",
   "id": "4404b3e5",
   "metadata": {},
   "source": [
    "Analysis of the shape of the dataset is also important to understand the dataset."
   ]
  },
  {
   "cell_type": "code",
   "execution_count": 11,
   "id": "6e2aa239",
   "metadata": {},
   "outputs": [
    {
     "data": {
      "text/plain": [
       "(100000, 12)"
      ]
     },
     "execution_count": 11,
     "metadata": {},
     "output_type": "execute_result"
    }
   ],
   "source": [
    "df.shape"
   ]
  },
  {
   "cell_type": "markdown",
   "id": "f1075089",
   "metadata": {},
   "source": [
    "As we can witness, ther are 100,000 rows and 12 columns in the dataset."
   ]
  },
  {
   "cell_type": "markdown",
   "id": "9e6d2e1b",
   "metadata": {},
   "source": [
    "Let's conduct a procedural analysis of the dataset. This process includes:\n",
    "- Assessing missing values in the dataset\n",
    "- Detecting duplicate entries in the dataset\n",
    "- Examining the data type of each column\n",
    "- Determining the count of unique values in each column\n",
    "- Investigating the categories within the categorical columns\n",
    "- Reviewing summary statistics of the dataset"
   ]
  },
  {
   "cell_type": "code",
   "execution_count": null,
   "id": "c0a7f504",
   "metadata": {},
   "outputs": [],
   "source": []
  },
  {
   "cell_type": "markdown",
   "id": "76493b84",
   "metadata": {},
   "source": [
    "Now, let us perform Chi Square test to check the relationship between the categorical and target variable"
   ]
  },
  {
   "cell_type": "markdown",
   "id": "54d74be9",
   "metadata": {},
   "source": [
    "### Assessing Mising Values"
   ]
  },
  {
   "cell_type": "code",
   "execution_count": 13,
   "id": "2c3edcc6",
   "metadata": {},
   "outputs": [
    {
     "data": {
      "text/plain": [
       "Tenure             0\n",
       "Monthly_Charges    0\n",
       "Total_Charges      0\n",
       "Support_Calls      0\n",
       "Internet_Usage     0\n",
       "Contract_Type      0\n",
       "Payment_Method     0\n",
       "Gender             0\n",
       "Senior_Citizen     0\n",
       "Device_Type        0\n",
       "Plan_Type          0\n",
       "Churn              0\n",
       "dtype: int64"
      ]
     },
     "execution_count": 13,
     "metadata": {},
     "output_type": "execute_result"
    }
   ],
   "source": [
    "df.isnull().sum()"
   ]
  },
  {
   "cell_type": "markdown",
   "id": "d2d98319",
   "metadata": {},
   "source": [
    "The dataset has no missing values."
   ]
  },
  {
   "cell_type": "markdown",
   "id": "fd4933d4",
   "metadata": {},
   "source": [
    "### Detecting Duplicate Entries"
   ]
  },
  {
   "cell_type": "code",
   "execution_count": 14,
   "id": "484da4bd",
   "metadata": {},
   "outputs": [
    {
     "data": {
      "text/plain": [
       "np.int64(0)"
      ]
     },
     "execution_count": 14,
     "metadata": {},
     "output_type": "execute_result"
    }
   ],
   "source": [
    "df.duplicated().sum()"
   ]
  },
  {
   "cell_type": "markdown",
   "id": "f43601ae",
   "metadata": {},
   "source": [
    "We can find no duplicate entries in the dataset."
   ]
  },
  {
   "cell_type": "markdown",
   "id": "c98b0264",
   "metadata": {},
   "source": [
    "### Examining the data type of each column"
   ]
  },
  {
   "cell_type": "code",
   "execution_count": 15,
   "id": "c5c58bb5",
   "metadata": {},
   "outputs": [
    {
     "name": "stdout",
     "output_type": "stream",
     "text": [
      "<class 'pandas.core.frame.DataFrame'>\n",
      "RangeIndex: 100000 entries, 0 to 99999\n",
      "Data columns (total 12 columns):\n",
      " #   Column           Non-Null Count   Dtype  \n",
      "---  ------           --------------   -----  \n",
      " 0   Tenure           100000 non-null  int64  \n",
      " 1   Monthly_Charges  100000 non-null  float64\n",
      " 2   Total_Charges    100000 non-null  float64\n",
      " 3   Support_Calls    100000 non-null  int64  \n",
      " 4   Internet_Usage   100000 non-null  float64\n",
      " 5   Contract_Type    100000 non-null  int64  \n",
      " 6   Payment_Method   100000 non-null  object \n",
      " 7   Gender           100000 non-null  object \n",
      " 8   Senior_Citizen   100000 non-null  int64  \n",
      " 9   Device_Type      100000 non-null  object \n",
      " 10  Plan_Type        100000 non-null  object \n",
      " 11  Churn            100000 non-null  int64  \n",
      "dtypes: float64(3), int64(5), object(4)\n",
      "memory usage: 9.2+ MB\n"
     ]
    }
   ],
   "source": [
    "df.info()"
   ]
  },
  {
   "cell_type": "markdown",
   "id": "aff0217c",
   "metadata": {},
   "source": [
    "There are\n",
    "- 3 columns with float64 data type\n",
    "- 4 columns with object data type\n",
    "- 5 column with int64 data type"
   ]
  },
  {
   "cell_type": "markdown",
   "id": "ffc42fff",
   "metadata": {},
   "source": [
    "### Determining the Count of unique Values in Each Column"
   ]
  },
  {
   "cell_type": "code",
   "execution_count": 16,
   "id": "8ec952f7",
   "metadata": {},
   "outputs": [
    {
     "data": {
      "text/plain": [
       "Tenure                72\n",
       "Monthly_Charges    10001\n",
       "Total_Charges      91650\n",
       "Support_Calls         11\n",
       "Internet_Usage      9999\n",
       "Contract_Type          3\n",
       "Payment_Method         4\n",
       "Gender                 3\n",
       "Senior_Citizen         2\n",
       "Device_Type            3\n",
       "Plan_Type              3\n",
       "Churn                  2\n",
       "dtype: int64"
      ]
     },
     "execution_count": 16,
     "metadata": {},
     "output_type": "execute_result"
    }
   ],
   "source": [
    "df.nunique()"
   ]
  },
  {
   "cell_type": "markdown",
   "id": "b2b41200",
   "metadata": {},
   "source": [
    "### Investigating the Categories amd numeric values within the Categorical and Numeric Columns respectively"
   ]
  },
  {
   "cell_type": "code",
   "execution_count": 44,
   "id": "aedff928",
   "metadata": {},
   "outputs": [],
   "source": [
    "df['Contract_Type'] = df['Contract_Type'].astype('object')\n",
    "df['Senior_Citizen'] = df['Senior_Citizen'].astype('object')\n",
    "df['Churn'] = df['Churn'].astype('category') "
   ]
  },
  {
   "cell_type": "code",
   "execution_count": 45,
   "id": "1e2a6f15",
   "metadata": {},
   "outputs": [
    {
     "name": "stdout",
     "output_type": "stream",
     "text": [
      "Categorical Features: Index(['Contract_Type', 'Payment_Method', 'Gender', 'Senior_Citizen',\n",
      "       'Device_Type', 'Plan_Type'],\n",
      "      dtype='object')\n",
      "Numerical Features: Index(['Tenure', 'Monthly_Charges', 'Total_Charges', 'Support_Calls',\n",
      "       'Internet_Usage'],\n",
      "      dtype='object')\n"
     ]
    }
   ],
   "source": [
    "# Extracting categorical features\n",
    "cat_features = df.select_dtypes(include=['object']).columns\n",
    "print(\"Categorical Features:\", cat_features)\n",
    "\n",
    "# Extracting numerical features\n",
    "num_features = df.select_dtypes(include=['float64', 'int64']).columns\n",
    "print(\"Numerical Features:\", num_features)"
   ]
  },
  {
   "cell_type": "code",
   "execution_count": 46,
   "id": "52d49b27",
   "metadata": {},
   "outputs": [
    {
     "name": "stdout",
     "output_type": "stream",
     "text": [
      "Contract_Type: [2 0 1]\n",
      "\n",
      "Payment_Method: ['Cash' 'UPI' 'Auto-debit' 'Credit Card']\n",
      "\n",
      "Gender: ['Other' 'Female' 'Male']\n",
      "\n",
      "Senior_Citizen: [0 1]\n",
      "\n",
      "Device_Type: ['Desktop' 'Tablet' 'Mobile']\n",
      "\n",
      "Plan_Type: ['Basic' 'Premium' 'Unlimited']\n",
      "\n"
     ]
    }
   ],
   "source": [
    "for features in cat_features:\n",
    "    print(f\"{features}: {df[features].unique()}\\n\")"
   ]
  },
  {
   "cell_type": "markdown",
   "id": "7a3b6473",
   "metadata": {},
   "source": [
    "Above is the list of values in each categorical feature."
   ]
  },
  {
   "cell_type": "markdown",
   "id": "e8425d3c",
   "metadata": {},
   "source": [
    "### Reviewing Summary Statistics of the Dataset"
   ]
  },
  {
   "cell_type": "code",
   "execution_count": 47,
   "id": "fae79e78",
   "metadata": {},
   "outputs": [
    {
     "data": {
      "text/html": [
       "<div>\n",
       "<style scoped>\n",
       "    .dataframe tbody tr th:only-of-type {\n",
       "        vertical-align: middle;\n",
       "    }\n",
       "\n",
       "    .dataframe tbody tr th {\n",
       "        vertical-align: top;\n",
       "    }\n",
       "\n",
       "    .dataframe thead th {\n",
       "        text-align: right;\n",
       "    }\n",
       "</style>\n",
       "<table border=\"1\" class=\"dataframe\">\n",
       "  <thead>\n",
       "    <tr style=\"text-align: right;\">\n",
       "      <th></th>\n",
       "      <th>Tenure</th>\n",
       "      <th>Monthly_Charges</th>\n",
       "      <th>Total_Charges</th>\n",
       "      <th>Support_Calls</th>\n",
       "      <th>Internet_Usage</th>\n",
       "    </tr>\n",
       "  </thead>\n",
       "  <tbody>\n",
       "    <tr>\n",
       "      <th>count</th>\n",
       "      <td>100000.000000</td>\n",
       "      <td>100000.000000</td>\n",
       "      <td>100000.000000</td>\n",
       "      <td>100000.000000</td>\n",
       "      <td>100000.000000</td>\n",
       "    </tr>\n",
       "    <tr>\n",
       "      <th>mean</th>\n",
       "      <td>36.412580</td>\n",
       "      <td>70.132355</td>\n",
       "      <td>2556.941459</td>\n",
       "      <td>2.001140</td>\n",
       "      <td>49.852046</td>\n",
       "    </tr>\n",
       "    <tr>\n",
       "      <th>std</th>\n",
       "      <td>20.775642</td>\n",
       "      <td>28.862775</td>\n",
       "      <td>1897.096225</td>\n",
       "      <td>1.414701</td>\n",
       "      <td>19.867741</td>\n",
       "    </tr>\n",
       "    <tr>\n",
       "      <th>min</th>\n",
       "      <td>1.000000</td>\n",
       "      <td>20.000000</td>\n",
       "      <td>0.000000</td>\n",
       "      <td>0.000000</td>\n",
       "      <td>0.000000</td>\n",
       "    </tr>\n",
       "    <tr>\n",
       "      <th>25%</th>\n",
       "      <td>18.000000</td>\n",
       "      <td>45.110000</td>\n",
       "      <td>1028.430000</td>\n",
       "      <td>1.000000</td>\n",
       "      <td>36.330000</td>\n",
       "    </tr>\n",
       "    <tr>\n",
       "      <th>50%</th>\n",
       "      <td>36.000000</td>\n",
       "      <td>70.180000</td>\n",
       "      <td>2109.565000</td>\n",
       "      <td>2.000000</td>\n",
       "      <td>49.860000</td>\n",
       "    </tr>\n",
       "    <tr>\n",
       "      <th>75%</th>\n",
       "      <td>54.000000</td>\n",
       "      <td>95.170000</td>\n",
       "      <td>3747.100000</td>\n",
       "      <td>3.000000</td>\n",
       "      <td>63.220000</td>\n",
       "    </tr>\n",
       "    <tr>\n",
       "      <th>max</th>\n",
       "      <td>72.000000</td>\n",
       "      <td>120.000000</td>\n",
       "      <td>8632.890000</td>\n",
       "      <td>10.000000</td>\n",
       "      <td>142.330000</td>\n",
       "    </tr>\n",
       "  </tbody>\n",
       "</table>\n",
       "</div>"
      ],
      "text/plain": [
       "              Tenure  Monthly_Charges  Total_Charges  Support_Calls  \\\n",
       "count  100000.000000    100000.000000  100000.000000  100000.000000   \n",
       "mean       36.412580        70.132355    2556.941459       2.001140   \n",
       "std        20.775642        28.862775    1897.096225       1.414701   \n",
       "min         1.000000        20.000000       0.000000       0.000000   \n",
       "25%        18.000000        45.110000    1028.430000       1.000000   \n",
       "50%        36.000000        70.180000    2109.565000       2.000000   \n",
       "75%        54.000000        95.170000    3747.100000       3.000000   \n",
       "max        72.000000       120.000000    8632.890000      10.000000   \n",
       "\n",
       "       Internet_Usage  \n",
       "count   100000.000000  \n",
       "mean        49.852046  \n",
       "std         19.867741  \n",
       "min          0.000000  \n",
       "25%         36.330000  \n",
       "50%         49.860000  \n",
       "75%         63.220000  \n",
       "max        142.330000  "
      ]
     },
     "execution_count": 47,
     "metadata": {},
     "output_type": "execute_result"
    }
   ],
   "source": [
    "df.describe()"
   ]
  },
  {
   "cell_type": "markdown",
   "id": "badd64f9",
   "metadata": {},
   "source": [
    "### Let us assess the correlation between the features"
   ]
  },
  {
   "cell_type": "code",
   "execution_count": 48,
   "id": "58f0d3c2",
   "metadata": {},
   "outputs": [
    {
     "data": {
      "image/png": "[encoded data removed]",
      "text/plain": [
       "<Figure size 1000x800 with 2 Axes>"
      ]
     },
     "metadata": {},
     "output_type": "display_data"
    }
   ],
   "source": [
    "corr = df[num_features].corr()\n",
    "plt.figure(figsize=(10, 8))\n",
    "sns.heatmap(corr, annot=True, fmt=\".2f\", cmap='coolwarm', square=True)\n",
    "plt.title('Correlation Matrix Heatmap')\n",
    "plt.show()"
   ]
  },
  {
   "cell_type": "markdown",
   "id": "86962f15",
   "metadata": {},
   "source": [
    "### Chi-Square Test\n",
    "\n",
    "Let us perform the Chi-Square Test to assess the association between categorical features"
   ]
  },
  {
   "cell_type": "code",
   "execution_count": 49,
   "id": "ef44154e",
   "metadata": {},
   "outputs": [],
   "source": [
    "from scipy.stats import chi2_contingency\n",
    "from scipy.stats import chi2\n",
    "\n",
    "def chi_square_test(df, feature1, feature2):\n",
    "\n",
    "    contingency_table = pd.crosstab(df[feature1], df[feature2])\n",
    "\n",
    "    # Observed values\n",
    "    observed_values = contingency_table.values\n",
    "\n",
    "    # Expected values\n",
    "    _, _, _, expected_values = chi2_contingency(contingency_table)\n",
    "\n",
    "    # Degrees of Freedom\n",
    "    no_of_rows = len(contingency_table.iloc[0:, 0])\n",
    "    no_columns = len(contingency_table.iloc[0, 0:])\n",
    "    deg_f = (no_of_rows - 1) * (no_columns - 1)\n",
    "\n",
    "    print(f\"Degrees of Freedom: {deg_f}\")\n",
    "\n",
    "    # Significancve Level 5%\n",
    "    alpha = 0.05\n",
    "    print(f\"Significance Level: {alpha}\")\n",
    "\n",
    "    # Chi-Square Statistic\n",
    "    chi_square = sum([(o-e)**2./e for o,e in zip(observed_values, expected_values)])\n",
    "    chi_square_statistic = chi_square[0] + chi_square[1]\n",
    "    \n",
    "    print(f\"Chi-Square Statistic: {chi_square_statistic}\")\n",
    "\n",
    "    # Critical Value\n",
    "    critical_value = chi2.ppf(q =1-alpha, df = deg_f)\n",
    "\n",
    "    # P-Values\n",
    "    p_value = 1-chi2.cdf(x = chi_square_statistic, df = deg_f)\n",
    "\n",
    "    print(f\"P-Value: {p_value}\")\n",
    "\n",
    "    print(\"As per the Chi-Square Test, we can conclude that:\")\n",
    "    if chi_square_statistic >= critical_value:\n",
    "        print(\"Reject H0, there is a relationship between the two categorical features.\")\n",
    "\n",
    "    else: \n",
    "        print(\"Fail to reject H0, there is no relationship between the two categorical features.\")\n",
    "    \n",
    "    print(\"\\n\")\n",
    "\n",
    "    print(\"As per the P-Value, we can conclude that:\")\n",
    "    if p_value <= alpha:\n",
    "        print(\"Reject H0, there is a relationship between the two categorical features.\")\n",
    "    else:\n",
    "        print(\"Fail to reject H0, there is no relationship between the two categorical features.\")"
   ]
  },
  {
   "cell_type": "code",
   "execution_count": 50,
   "id": "0dae5813",
   "metadata": {},
   "outputs": [
    {
     "name": "stdout",
     "output_type": "stream",
     "text": [
      "Chi-Square Test between Contract_Type and Payment_Method\n",
      "Degrees of Freedom: 6\n",
      "Significance Level: 0.05\n",
      "Chi-Square Statistic: 3.3403199091399496\n",
      "P-Value: 0.7650787970180716\n",
      "As per the Chi-Square Test, we can conclude that:\n",
      "Fail to reject H0, there is no relationship between the two categorical features.\n",
      "\n",
      "\n",
      "As per the P-Value, we can conclude that:\n",
      "Fail to reject H0, there is no relationship between the two categorical features.\n",
      "\n",
      "==================================================\n",
      "\n",
      "Chi-Square Test between Contract_Type and Gender\n",
      "Degrees of Freedom: 4\n",
      "Significance Level: 0.05\n",
      "Chi-Square Statistic: 6.036031756097823\n",
      "P-Value: 0.19647351117612322\n",
      "As per the Chi-Square Test, we can conclude that:\n",
      "Fail to reject H0, there is no relationship between the two categorical features.\n",
      "\n",
      "\n",
      "As per the P-Value, we can conclude that:\n",
      "Fail to reject H0, there is no relationship between the two categorical features.\n",
      "\n",
      "==================================================\n",
      "\n",
      "Chi-Square Test between Contract_Type and Senior_Citizen\n",
      "Degrees of Freedom: 2\n",
      "Significance Level: 0.05\n",
      "Chi-Square Statistic: 0.7055213096577319\n",
      "P-Value: 0.7027453719613884\n",
      "As per the Chi-Square Test, we can conclude that:\n",
      "Fail to reject H0, there is no relationship between the two categorical features.\n",
      "\n",
      "\n",
      "As per the P-Value, we can conclude that:\n",
      "Fail to reject H0, there is no relationship between the two categorical features.\n",
      "\n",
      "==================================================\n",
      "\n",
      "Chi-Square Test between Contract_Type and Device_Type\n",
      "Degrees of Freedom: 4\n",
      "Significance Level: 0.05\n",
      "Chi-Square Statistic: 7.879920591410825\n",
      "P-Value: 0.09607722326720358\n",
      "As per the Chi-Square Test, we can conclude that:\n",
      "Fail to reject H0, there is no relationship between the two categorical features.\n",
      "\n",
      "\n",
      "As per the P-Value, we can conclude that:\n",
      "Fail to reject H0, there is no relationship between the two categorical features.\n",
      "\n",
      "==================================================\n",
      "\n",
      "Chi-Square Test between Contract_Type and Plan_Type\n",
      "Degrees of Freedom: 4\n",
      "Significance Level: 0.05\n",
      "Chi-Square Statistic: 0.38938375531427927\n",
      "P-Value: 0.9833368240064494\n",
      "As per the Chi-Square Test, we can conclude that:\n",
      "Fail to reject H0, there is no relationship between the two categorical features.\n",
      "\n",
      "\n",
      "As per the P-Value, we can conclude that:\n",
      "Fail to reject H0, there is no relationship between the two categorical features.\n",
      "\n",
      "==================================================\n",
      "\n",
      "Chi-Square Test between Payment_Method and Contract_Type\n",
      "Degrees of Freedom: 6\n",
      "Significance Level: 0.05\n",
      "Chi-Square Statistic: 3.263374091363503\n",
      "P-Value: 0.7751382300620794\n",
      "As per the Chi-Square Test, we can conclude that:\n",
      "Fail to reject H0, there is no relationship between the two categorical features.\n",
      "\n",
      "\n",
      "As per the P-Value, we can conclude that:\n",
      "Fail to reject H0, there is no relationship between the two categorical features.\n",
      "\n",
      "==================================================\n",
      "\n",
      "Chi-Square Test between Payment_Method and Gender\n",
      "Degrees of Freedom: 6\n",
      "Significance Level: 0.05\n",
      "Chi-Square Statistic: 3.1518875572260323\n",
      "P-Value: 0.7895561535233631\n",
      "As per the Chi-Square Test, we can conclude that:\n",
      "Fail to reject H0, there is no relationship between the two categorical features.\n",
      "\n",
      "\n",
      "As per the P-Value, we can conclude that:\n",
      "Fail to reject H0, there is no relationship between the two categorical features.\n",
      "\n",
      "==================================================\n",
      "\n",
      "Chi-Square Test between Payment_Method and Senior_Citizen\n",
      "Degrees of Freedom: 3\n",
      "Significance Level: 0.05\n",
      "Chi-Square Statistic: 4.452776249996381\n",
      "P-Value: 0.216541415063234\n",
      "As per the Chi-Square Test, we can conclude that:\n",
      "Fail to reject H0, there is no relationship between the two categorical features.\n",
      "\n",
      "\n",
      "As per the P-Value, we can conclude that:\n",
      "Fail to reject H0, there is no relationship between the two categorical features.\n",
      "\n",
      "==================================================\n",
      "\n",
      "Chi-Square Test between Payment_Method and Device_Type\n",
      "Degrees of Freedom: 6\n",
      "Significance Level: 0.05\n",
      "Chi-Square Statistic: 1.6586362156027061\n",
      "P-Value: 0.9482697396942983\n",
      "As per the Chi-Square Test, we can conclude that:\n",
      "Fail to reject H0, there is no relationship between the two categorical features.\n",
      "\n",
      "\n",
      "As per the P-Value, we can conclude that:\n",
      "Fail to reject H0, there is no relationship between the two categorical features.\n",
      "\n",
      "==================================================\n",
      "\n",
      "Chi-Square Test between Payment_Method and Plan_Type\n",
      "Degrees of Freedom: 6\n",
      "Significance Level: 0.05\n",
      "Chi-Square Statistic: 9.26892238764892\n",
      "P-Value: 0.15900933797754702\n",
      "As per the Chi-Square Test, we can conclude that:\n",
      "Fail to reject H0, there is no relationship between the two categorical features.\n",
      "\n",
      "\n",
      "As per the P-Value, we can conclude that:\n",
      "Fail to reject H0, there is no relationship between the two categorical features.\n",
      "\n",
      "==================================================\n",
      "\n",
      "Chi-Square Test between Gender and Contract_Type\n",
      "Degrees of Freedom: 4\n",
      "Significance Level: 0.05\n",
      "Chi-Square Statistic: 5.366404306520678\n",
      "P-Value: 0.2517246043092788\n",
      "As per the Chi-Square Test, we can conclude that:\n",
      "Fail to reject H0, there is no relationship between the two categorical features.\n",
      "\n",
      "\n",
      "As per the P-Value, we can conclude that:\n",
      "Fail to reject H0, there is no relationship between the two categorical features.\n",
      "\n",
      "==================================================\n",
      "\n",
      "Chi-Square Test between Gender and Payment_Method\n",
      "Degrees of Freedom: 6\n",
      "Significance Level: 0.05\n",
      "Chi-Square Statistic: 1.7901094869529979\n",
      "P-Value: 0.9379548910681993\n",
      "As per the Chi-Square Test, we can conclude that:\n",
      "Fail to reject H0, there is no relationship between the two categorical features.\n",
      "\n",
      "\n",
      "As per the P-Value, we can conclude that:\n",
      "Fail to reject H0, there is no relationship between the two categorical features.\n",
      "\n",
      "==================================================\n",
      "\n",
      "Chi-Square Test between Gender and Senior_Citizen\n",
      "Degrees of Freedom: 2\n",
      "Significance Level: 0.05\n",
      "Chi-Square Statistic: 0.5253111139119769\n",
      "P-Value: 0.7690067307177233\n",
      "As per the Chi-Square Test, we can conclude that:\n",
      "Fail to reject H0, there is no relationship between the two categorical features.\n",
      "\n",
      "\n",
      "As per the P-Value, we can conclude that:\n",
      "Fail to reject H0, there is no relationship between the two categorical features.\n",
      "\n",
      "==================================================\n",
      "\n",
      "Chi-Square Test between Gender and Device_Type\n",
      "Degrees of Freedom: 4\n",
      "Significance Level: 0.05\n",
      "Chi-Square Statistic: 1.8455380066838925\n",
      "P-Value: 0.7641412176672768\n",
      "As per the Chi-Square Test, we can conclude that:\n",
      "Fail to reject H0, there is no relationship between the two categorical features.\n",
      "\n",
      "\n",
      "As per the P-Value, we can conclude that:\n",
      "Fail to reject H0, there is no relationship between the two categorical features.\n",
      "\n",
      "==================================================\n",
      "\n",
      "Chi-Square Test between Gender and Plan_Type\n",
      "Degrees of Freedom: 4\n",
      "Significance Level: 0.05\n",
      "Chi-Square Statistic: 0.03952777720572294\n",
      "P-Value: 0.9998072487142959\n",
      "As per the Chi-Square Test, we can conclude that:\n",
      "Fail to reject H0, there is no relationship between the two categorical features.\n",
      "\n",
      "\n",
      "As per the P-Value, we can conclude that:\n",
      "Fail to reject H0, there is no relationship between the two categorical features.\n",
      "\n",
      "==================================================\n",
      "\n",
      "Chi-Square Test between Senior_Citizen and Contract_Type\n",
      "Degrees of Freedom: 2\n",
      "Significance Level: 0.05\n",
      "Chi-Square Statistic: 0.6804086643230711\n",
      "P-Value: 0.7116249000518171\n",
      "As per the Chi-Square Test, we can conclude that:\n",
      "Fail to reject H0, there is no relationship between the two categorical features.\n",
      "\n",
      "\n",
      "As per the P-Value, we can conclude that:\n",
      "Fail to reject H0, there is no relationship between the two categorical features.\n",
      "\n",
      "==================================================\n",
      "\n",
      "Chi-Square Test between Senior_Citizen and Payment_Method\n",
      "Degrees of Freedom: 3\n",
      "Significance Level: 0.05\n",
      "Chi-Square Statistic: 3.934195595876701\n",
      "P-Value: 0.2686580500036557\n",
      "As per the Chi-Square Test, we can conclude that:\n",
      "Fail to reject H0, there is no relationship between the two categorical features.\n",
      "\n",
      "\n",
      "As per the P-Value, we can conclude that:\n",
      "Fail to reject H0, there is no relationship between the two categorical features.\n",
      "\n",
      "==================================================\n",
      "\n",
      "Chi-Square Test between Senior_Citizen and Gender\n",
      "Degrees of Freedom: 2\n",
      "Significance Level: 0.05\n",
      "Chi-Square Statistic: 0.24868923672946838\n",
      "P-Value: 0.8830754644164192\n",
      "As per the Chi-Square Test, we can conclude that:\n",
      "Fail to reject H0, there is no relationship between the two categorical features.\n",
      "\n",
      "\n",
      "As per the P-Value, we can conclude that:\n",
      "Fail to reject H0, there is no relationship between the two categorical features.\n",
      "\n",
      "==================================================\n",
      "\n",
      "Chi-Square Test between Senior_Citizen and Device_Type\n",
      "Degrees of Freedom: 2\n",
      "Significance Level: 0.05\n",
      "Chi-Square Statistic: 0.05565706325273894\n",
      "P-Value: 0.9725551149486478\n",
      "As per the Chi-Square Test, we can conclude that:\n",
      "Fail to reject H0, there is no relationship between the two categorical features.\n",
      "\n",
      "\n",
      "As per the P-Value, we can conclude that:\n",
      "Fail to reject H0, there is no relationship between the two categorical features.\n",
      "\n",
      "==================================================\n",
      "\n",
      "Chi-Square Test between Senior_Citizen and Plan_Type\n",
      "Degrees of Freedom: 2\n",
      "Significance Level: 0.05\n",
      "Chi-Square Statistic: 1.2099550038516844\n",
      "P-Value: 0.5460867124008582\n",
      "As per the Chi-Square Test, we can conclude that:\n",
      "Fail to reject H0, there is no relationship between the two categorical features.\n",
      "\n",
      "\n",
      "As per the P-Value, we can conclude that:\n",
      "Fail to reject H0, there is no relationship between the two categorical features.\n",
      "\n",
      "==================================================\n",
      "\n",
      "Chi-Square Test between Device_Type and Contract_Type\n",
      "Degrees of Freedom: 4\n",
      "Significance Level: 0.05\n",
      "Chi-Square Statistic: 6.950550383508398\n",
      "P-Value: 0.138524600726456\n",
      "As per the Chi-Square Test, we can conclude that:\n",
      "Fail to reject H0, there is no relationship between the two categorical features.\n",
      "\n",
      "\n",
      "As per the P-Value, we can conclude that:\n",
      "Fail to reject H0, there is no relationship between the two categorical features.\n",
      "\n",
      "==================================================\n",
      "\n",
      "Chi-Square Test between Device_Type and Payment_Method\n",
      "Degrees of Freedom: 6\n",
      "Significance Level: 0.05\n",
      "Chi-Square Statistic: 1.7899995238178044\n",
      "P-Value: 0.9379638892392366\n",
      "As per the Chi-Square Test, we can conclude that:\n",
      "Fail to reject H0, there is no relationship between the two categorical features.\n",
      "\n",
      "\n",
      "As per the P-Value, we can conclude that:\n",
      "Fail to reject H0, there is no relationship between the two categorical features.\n",
      "\n",
      "==================================================\n",
      "\n",
      "Chi-Square Test between Device_Type and Gender\n",
      "Degrees of Freedom: 4\n",
      "Significance Level: 0.05\n",
      "Chi-Square Statistic: 2.026322367526869\n",
      "P-Value: 0.7309172922767343\n",
      "As per the Chi-Square Test, we can conclude that:\n",
      "Fail to reject H0, there is no relationship between the two categorical features.\n",
      "\n",
      "\n",
      "As per the P-Value, we can conclude that:\n",
      "Fail to reject H0, there is no relationship between the two categorical features.\n",
      "\n",
      "==================================================\n",
      "\n",
      "Chi-Square Test between Device_Type and Senior_Citizen\n",
      "Degrees of Freedom: 2\n",
      "Significance Level: 0.05\n",
      "Chi-Square Statistic: 0.12131141376735424\n",
      "P-Value: 0.9411472145090761\n",
      "As per the Chi-Square Test, we can conclude that:\n",
      "Fail to reject H0, there is no relationship between the two categorical features.\n",
      "\n",
      "\n",
      "As per the P-Value, we can conclude that:\n",
      "Fail to reject H0, there is no relationship between the two categorical features.\n",
      "\n",
      "==================================================\n",
      "\n",
      "Chi-Square Test between Device_Type and Plan_Type\n",
      "Degrees of Freedom: 4\n",
      "Significance Level: 0.05\n",
      "Chi-Square Statistic: 1.222440478862313\n",
      "P-Value: 0.874390300600764\n",
      "As per the Chi-Square Test, we can conclude that:\n",
      "Fail to reject H0, there is no relationship between the two categorical features.\n",
      "\n",
      "\n",
      "As per the P-Value, we can conclude that:\n",
      "Fail to reject H0, there is no relationship between the two categorical features.\n",
      "\n",
      "==================================================\n",
      "\n",
      "Chi-Square Test between Plan_Type and Contract_Type\n",
      "Degrees of Freedom: 4\n",
      "Significance Level: 0.05\n",
      "Chi-Square Statistic: 0.47859536226003746\n",
      "P-Value: 0.9755509914621553\n",
      "As per the Chi-Square Test, we can conclude that:\n",
      "Fail to reject H0, there is no relationship between the two categorical features.\n",
      "\n",
      "\n",
      "As per the P-Value, we can conclude that:\n",
      "Fail to reject H0, there is no relationship between the two categorical features.\n",
      "\n",
      "==================================================\n",
      "\n",
      "Chi-Square Test between Plan_Type and Payment_Method\n",
      "Degrees of Freedom: 6\n",
      "Significance Level: 0.05\n",
      "Chi-Square Statistic: 2.228617588615176\n",
      "P-Value: 0.8975179052848173\n",
      "As per the Chi-Square Test, we can conclude that:\n",
      "Fail to reject H0, there is no relationship between the two categorical features.\n",
      "\n",
      "\n",
      "As per the P-Value, we can conclude that:\n",
      "Fail to reject H0, there is no relationship between the two categorical features.\n",
      "\n",
      "==================================================\n",
      "\n",
      "Chi-Square Test between Plan_Type and Gender\n",
      "Degrees of Freedom: 4\n",
      "Significance Level: 0.05\n",
      "Chi-Square Statistic: 0.09304730739554785\n",
      "P-Value: 0.9989507624592118\n",
      "As per the Chi-Square Test, we can conclude that:\n",
      "Fail to reject H0, there is no relationship between the two categorical features.\n",
      "\n",
      "\n",
      "As per the P-Value, we can conclude that:\n",
      "Fail to reject H0, there is no relationship between the two categorical features.\n",
      "\n",
      "==================================================\n",
      "\n",
      "Chi-Square Test between Plan_Type and Senior_Citizen\n",
      "Degrees of Freedom: 2\n",
      "Significance Level: 0.05\n",
      "Chi-Square Statistic: 1.8260938827209472\n",
      "P-Value: 0.40129962291814747\n",
      "As per the Chi-Square Test, we can conclude that:\n",
      "Fail to reject H0, there is no relationship between the two categorical features.\n",
      "\n",
      "\n",
      "As per the P-Value, we can conclude that:\n",
      "Fail to reject H0, there is no relationship between the two categorical features.\n",
      "\n",
      "==================================================\n",
      "\n",
      "Chi-Square Test between Plan_Type and Device_Type\n",
      "Degrees of Freedom: 4\n",
      "Significance Level: 0.05\n",
      "Chi-Square Statistic: 3.381403574339393\n",
      "P-Value: 0.49613870699264095\n",
      "As per the Chi-Square Test, we can conclude that:\n",
      "Fail to reject H0, there is no relationship between the two categorical features.\n",
      "\n",
      "\n",
      "As per the P-Value, we can conclude that:\n",
      "Fail to reject H0, there is no relationship between the two categorical features.\n",
      "\n",
      "==================================================\n",
      "\n"
     ]
    }
   ],
   "source": [
    "for x in cat_features:\n",
    "    for i in cat_features:\n",
    "        if i !=x:\n",
    "            print(\"Chi-Square Test between {} and {}\".format(x, i))\n",
    "            chi_square_test(df = df, feature1=x, feature2=i)\n",
    "            print(\"\\n\" + \"=\"*50 + \"\\n\")"
   ]
  },
  {
   "cell_type": "markdown",
   "id": "a820696b",
   "metadata": {},
   "source": [
    "As per the Chi Square test results, we can see that there is no relationship between any of the categorical features."
   ]
  },
  {
   "cell_type": "markdown",
   "id": "098ef972",
   "metadata": {},
   "source": [
    "Now, let us perform Chi-Square test to check relationship between cat_features and target variable"
   ]
  },
  {
   "cell_type": "code",
   "execution_count": 51,
   "id": "aaf526c7",
   "metadata": {},
   "outputs": [
    {
     "name": "stdout",
     "output_type": "stream",
     "text": [
      "Chi-Square test for Contract_Type and ['Churn']:\n",
      "Chi2 Statistic: 23994.054038614002\n",
      "P-Value: 0.0000\n",
      "Degrees of Freedom: 2\n",
      "Expected Frequencies:\n",
      "[[16252.96925 43772.03075]\n",
      " [ 6800.11778 18313.88222]\n",
      " [ 4023.91297 10837.08703]]\n",
      "\n",
      "Rejecet the null hypothesis: There is a significant relationship between Contract_Type and ['Churn'].\n",
      "\n",
      "==================================================\n",
      "\n",
      "Chi-Square test for Payment_Method and ['Churn']:\n",
      "Chi2 Statistic: 0.9063851812868504\n",
      "P-Value: 0.8239\n",
      "Degrees of Freedom: 3\n",
      "Expected Frequencies:\n",
      "[[ 6746.23455 18168.76545]\n",
      " [ 6747.31763 18171.68237]\n",
      " [ 6830.44402 18395.55598]\n",
      " [ 6753.0038  18186.9962 ]]\n",
      "\n",
      "Fail to reject the null hypothesis: There is no significant relationship between Payment_Method and ['Churn'].\n",
      "\n",
      "==================================================\n",
      "\n",
      "Chi-Square test for Gender and ['Churn']:\n",
      "Chi2 Statistic: 0.41237329646563853\n",
      "P-Value: 0.8137\n",
      "Degrees of Freedom: 2\n",
      "Expected Frequencies:\n",
      "[[ 8997.95787 24233.04213]\n",
      " [ 9011.49637 24269.50363]\n",
      " [ 9067.54576 24420.45424]]\n",
      "\n",
      "Fail to reject the null hypothesis: There is no significant relationship between Gender and ['Churn'].\n",
      "\n",
      "==================================================\n",
      "\n",
      "Chi-Square test for Senior_Citizen and ['Churn']:\n",
      "Chi2 Statistic: 0.08776576600394269\n",
      "P-Value: 0.7670\n",
      "Degrees of Freedom: 1\n",
      "Expected Frequencies:\n",
      "[[23004.6192 61955.3808]\n",
      " [ 4072.3808 10967.6192]]\n",
      "\n",
      "Fail to reject the null hypothesis: There is no significant relationship between Senior_Citizen and ['Churn'].\n",
      "\n",
      "==================================================\n",
      "\n",
      "Chi-Square test for Device_Type and ['Churn']:\n",
      "Chi2 Statistic: 0.3642599569746915\n",
      "P-Value: 0.8335\n",
      "Degrees of Freedom: 2\n",
      "Expected Frequencies:\n",
      "[[ 9038.3026  24341.6974 ]\n",
      " [ 9077.83502 24448.16498]\n",
      " [ 8960.86238 24133.13762]]\n",
      "\n",
      "Fail to reject the null hypothesis: There is no significant relationship between Device_Type and ['Churn'].\n",
      "\n",
      "==================================================\n",
      "\n",
      "Chi-Square test for Plan_Type and ['Churn']:\n",
      "Chi2 Statistic: 2.532286440769459\n",
      "P-Value: 0.2819\n",
      "Degrees of Freedom: 2\n",
      "Expected Frequencies:\n",
      "[[ 9015.82869 24281.17131]\n",
      " [ 9015.01638 24278.98362]\n",
      " [ 9046.15493 24362.84507]]\n",
      "\n",
      "Fail to reject the null hypothesis: There is no significant relationship between Plan_Type and ['Churn'].\n",
      "\n",
      "==================================================\n",
      "\n"
     ]
    }
   ],
   "source": [
    "# Target Variable\n",
    "target = ['Churn']\n",
    "\n",
    "# Chi-Square Test between categorical features and target variable\n",
    "for feature in cat_features:\n",
    "    # Create a contingency table\n",
    "    contingency_table = pd.crosstab(df[feature], df[target[0]])\n",
    "\n",
    "    # Perform Chi-Square Test\n",
    "    chi2, p, dof, expected = chi2_contingency(contingency_table)\n",
    "\n",
    "    # Output the results\n",
    "    print(f\"Chi-Square test for {feature} and {target}:\")\n",
    "    print(f\"Chi2 Statistic: {chi2}\")\n",
    "    print(f\"P-Value: {p:.4f}\")\n",
    "    print(f\"Degrees of Freedom: {dof}\")\n",
    "    print(f\"Expected Frequencies:\\n{expected}\\n\")\n",
    "\n",
    "\n",
    "    # Check significance\n",
    "    alpha = 0.05 # Set yout significance level\n",
    "\n",
    "    if p < alpha:\n",
    "        print(f\"Rejecet the null hypothesis: There is a significant relationship between {feature} and {target}.\\n\")\n",
    "    else:\n",
    "        print(f\"Fail to reject the null hypothesis: There is no significant relationship between {feature} and {target}.\\n\")\n",
    "    \n",
    "    print(\"=\"*50 + \"\\n\")"
   ]
  },
  {
   "cell_type": "markdown",
   "id": "e38e3079",
   "metadata": {},
   "source": [
    "### Independent t-test (Welch’s t-test preferred) – for comparing means of 2 groups (Churn=0 and Churn=1)"
   ]
  },
  {
   "cell_type": "code",
   "execution_count": 53,
   "id": "82f18e69",
   "metadata": {},
   "outputs": [
    {
     "name": "stdout",
     "output_type": "stream",
     "text": [
      "t-test results between numerical features and Churn:\n",
      "\n",
      "Tenure: t-statistic = 28.1422, p-value = 0.0000 → ✅ Significant difference\n",
      "Monthly_Charges: t-statistic = -218.5518, p-value = 0.0000 → ✅ Significant difference\n",
      "Total_Charges: t-statistic = -93.9429, p-value = 0.0000 → ✅ Significant difference\n",
      "Support_Calls: t-statistic = -79.9817, p-value = 0.0000 → ✅ Significant difference\n",
      "Internet_Usage: t-statistic = -0.1105, p-value = 0.9120 → ❌ No significant difference\n"
     ]
    }
   ],
   "source": [
    "import pandas as pd\n",
    "from scipy.stats import ttest_ind\n",
    "import numpy as np\n",
    "\n",
    "# Assume df is your DataFrame\n",
    "numerical_features = ['Tenure', 'Monthly_Charges', 'Total_Charges', 'Support_Calls',\n",
    "       'Internet_Usage']  # List of numerical features\n",
    "\n",
    "# Split data by Churn\n",
    "group_0 = df[df['Churn'] == 0]\n",
    "group_1 = df[df['Churn'] == 1]\n",
    "\n",
    "print(\"t-test results between numerical features and Churn:\\n\")\n",
    "for feature in numerical_features:\n",
    "    stat, p = ttest_ind(group_0[feature], group_1[feature], equal_var=False, nan_policy='omit')\n",
    "    if p < 0.05:\n",
    "        result = \"✅ Significant difference\"\n",
    "    else:\n",
    "        result = \"❌ No significant difference\"\n",
    "    \n",
    "    print(f\"{feature}: t-statistic = {stat:.4f}, p-value = {p:.4f} → {result}\")\n"
   ]
  },
  {
   "cell_type": "markdown",
   "id": "2503a5bc",
   "metadata": {},
   "source": [
    "###  Visualize Differences with Boxplots"
   ]
  },
  {
   "cell_type": "code",
   "execution_count": 36,
   "id": "224c7c7c",
   "metadata": {},
   "outputs": [
    {
     "data": {
      "image/png": "[encoded data removed]",
      "text/plain": [
       "<Figure size 600x400 with 1 Axes>"
      ]
     },
     "metadata": {},
     "output_type": "display_data"
    },
    {
     "data": {
      "image/png": "[encoded data removed]",
      "text/plain": [
       "<Figure size 600x400 with 1 Axes>"
      ]
     },
     "metadata": {},
     "output_type": "display_data"
    },
    {
     "data": {
      "image/png": "[encoded data removed]",
      "text/plain": [
       "<Figure size 600x400 with 1 Axes>"
      ]
     },
     "metadata": {},
     "output_type": "display_data"
    },
    {
     "data": {
      "image/png": "[encoded data removed]",
      "text/plain": [
       "<Figure size 600x400 with 1 Axes>"
      ]
     },
     "metadata": {},
     "output_type": "display_data"
    },
    {
     "data": {
      "image/png": "[encoded data removed]",
      "text/plain": [
       "<Figure size 600x400 with 1 Axes>"
      ]
     },
     "metadata": {},
     "output_type": "display_data"
    }
   ],
   "source": [
    "import seaborn as sns\n",
    "import matplotlib.pyplot as plt\n",
    "\n",
    "for feature in numerical_features:\n",
    "    plt.figure(figsize=(6, 4))\n",
    "    sns.boxplot(x='Churn', y=feature, data=df)\n",
    "    plt.title(f'{feature} by Churn')\n",
    "    plt.tight_layout()\n",
    "    plt.show()\n"
   ]
  },
  {
   "cell_type": "markdown",
   "id": "db5916c6",
   "metadata": {},
   "source": [
    "### Interpretation\n",
    "\n",
    "- Features like Tenure, Monthly_Charges, Total_Charges, Support_Calls, and Contract_Type show strong statistical differences between churners and non-churners → these are valuable for the model.\n",
    "\n",
    "- Internet_Usage don’t show statistically significant differences → may be less important or could be non-linearly related, so we can drop it"
   ]
  },
  {
   "cell_type": "markdown",
   "id": "1a463191",
   "metadata": {},
   "source": [
    "## Interpretation\n",
    "\n",
    "### Numerical Features: T-Test Results\n",
    "\n",
    "| Feature           | t-statistic | p-value | Significance      | Interpretation                                                   |\n",
    "| ----------------- | ----------- | ------- | ----------------- | ---------------------------------------------------------------- |\n",
    "| `Tenure`          | 28.14       | < 0.001 | ✅ Significant     | Longer tenure reduces churn.                                     |\n",
    "| `Monthly_Charges` | -218.55     | < 0.001 | ✅ Significant     | Higher charges increase churn.                                   |\n",
    "| `Total_Charges`   | -93.94      | < 0.001 | ✅ Significant     | Lower total charges indicate new customers more likely to churn. |\n",
    "| `Support_Calls`   | -79.98      | < 0.001 | ✅ Significant     | More support calls correlate with higher churn.                  |\n",
    "| `Internet_Usage`  | -0.11       | 0.912   | ❌ Not Significant | No effect on churn.                                              |\n",
    "| `Contract_Type`   | 151.74      | < 0.001 | ✅ Significant     | Longer contracts reduce churn.                                   |\n",
    "\n",
    "\n",
    "### Categorical Features: Chi-Square Results\n",
    "\n",
    "| Feature          | Chi2 Stat | p-value | Significance      | Interpretation                |\n",
    "| ---------------- | --------- | ------- | ----------------- | ----------------------------- |\n",
    "| `Contract_Type`  | High      | < 0.05  | ✅ Significant     | Strongly related to churn.    |\n",
    "| `Payment_Method` | Low       | > 0.05  | ❌ Not Significant | Little impact on churn.       |\n",
    "| `Gender`         | Low       | > 0.05  | ❌ Not Significant | Gender does not affect churn. |\n",
    "| `Senior_Citizen` | Low       | > 0.05  | ❌ Not Significant | Confirmed not significant.    |\n",
    "| `Device_Type`    | Low       | > 0.05  | ❌ Not Significant | Not related to churn.         |\n",
    "| `Plan_Type`      | Low       | > 0.05  | ❌ Not Significant | Not related to churn.         |"
   ]
  },
  {
   "cell_type": "markdown",
   "id": "4c8e4bb8",
   "metadata": {},
   "source": [
    "- Features like Tenure, Monthly_Charges, Total_Charges, Support_Calls, and Contract_Type show strong statistical differences between churners and non-churners → these are valuable for the model.\n",
    "\n",
    "- Internet_Usage doesn’t show statistically significant differences → may be less important or could be non-linearly related, so we can drop it.\n",
    "\n",
    "- Senior_Citizen does not show a significant impact on churn → can be excluded unless domain knowledge suggests otherwise.\n",
    "\n",
    "- Categorical features like Gender, Payment_Method, Device_Type, and Plan_Type do not show significant association with churn → likely to have minimal predictive value and can be dropped or tested further with tree-based models."
   ]
  },
  {
   "cell_type": "markdown",
   "id": "0d99c8e6",
   "metadata": {},
   "source": [
    "Hence, we are going to drop less significant featurs and retain more significant ones for our model."
   ]
  },
  {
   "cell_type": "code",
   "execution_count": 54,
   "id": "3328d4a6",
   "metadata": {},
   "outputs": [],
   "source": [
    "df.drop(columns = ['Internet_Usage', 'Payment_Method', 'Gender', 'Senior_Citizen', 'Device_Type', 'Plan_Type'], axis=1, inplace=True)"
   ]
  },
  {
   "cell_type": "code",
   "execution_count": 55,
   "id": "99f95cc9",
   "metadata": {},
   "outputs": [
    {
     "data": {
      "text/html": [
       "<div>\n",
       "<style scoped>\n",
       "    .dataframe tbody tr th:only-of-type {\n",
       "        vertical-align: middle;\n",
       "    }\n",
       "\n",
       "    .dataframe tbody tr th {\n",
       "        vertical-align: top;\n",
       "    }\n",
       "\n",
       "    .dataframe thead th {\n",
       "        text-align: right;\n",
       "    }\n",
       "</style>\n",
       "<table border=\"1\" class=\"dataframe\">\n",
       "  <thead>\n",
       "    <tr style=\"text-align: right;\">\n",
       "      <th></th>\n",
       "      <th>Tenure</th>\n",
       "      <th>Monthly_Charges</th>\n",
       "      <th>Total_Charges</th>\n",
       "      <th>Support_Calls</th>\n",
       "      <th>Contract_Type</th>\n",
       "      <th>Churn</th>\n",
       "    </tr>\n",
       "  </thead>\n",
       "  <tbody>\n",
       "    <tr>\n",
       "      <th>0</th>\n",
       "      <td>16</td>\n",
       "      <td>113.67</td>\n",
       "      <td>1830.01</td>\n",
       "      <td>3</td>\n",
       "      <td>2</td>\n",
       "      <td>1</td>\n",
       "    </tr>\n",
       "    <tr>\n",
       "      <th>1</th>\n",
       "      <td>33</td>\n",
       "      <td>79.14</td>\n",
       "      <td>2637.01</td>\n",
       "      <td>2</td>\n",
       "      <td>0</td>\n",
       "      <td>1</td>\n",
       "    </tr>\n",
       "    <tr>\n",
       "      <th>2</th>\n",
       "      <td>54</td>\n",
       "      <td>103.80</td>\n",
       "      <td>5617.29</td>\n",
       "      <td>2</td>\n",
       "      <td>2</td>\n",
       "      <td>1</td>\n",
       "    </tr>\n",
       "    <tr>\n",
       "      <th>3</th>\n",
       "      <td>37</td>\n",
       "      <td>92.47</td>\n",
       "      <td>3413.67</td>\n",
       "      <td>2</td>\n",
       "      <td>0</td>\n",
       "      <td>1</td>\n",
       "    </tr>\n",
       "    <tr>\n",
       "      <th>4</th>\n",
       "      <td>20</td>\n",
       "      <td>71.72</td>\n",
       "      <td>1437.29</td>\n",
       "      <td>0</td>\n",
       "      <td>1</td>\n",
       "      <td>0</td>\n",
       "    </tr>\n",
       "  </tbody>\n",
       "</table>\n",
       "</div>"
      ],
      "text/plain": [
       "   Tenure  Monthly_Charges  Total_Charges  Support_Calls Contract_Type Churn\n",
       "0      16           113.67        1830.01              3             2     1\n",
       "1      33            79.14        2637.01              2             0     1\n",
       "2      54           103.80        5617.29              2             2     1\n",
       "3      37            92.47        3413.67              2             0     1\n",
       "4      20            71.72        1437.29              0             1     0"
      ]
     },
     "execution_count": 55,
     "metadata": {},
     "output_type": "execute_result"
    }
   ],
   "source": [
    "df.head()"
   ]
  },
  {
   "cell_type": "markdown",
   "id": "473ae3d7",
   "metadata": {},
   "source": [
    "Let us save the processed data for model development"
   ]
  },
  {
   "cell_type": "code",
   "execution_count": 57,
   "id": "9128b19b",
   "metadata": {},
   "outputs": [],
   "source": [
    "df.to_csv(\"research_notebooks/02. Churn/preprocessed_churn_data.csv\", index = False)"
   ]
  }
 ],
 "metadata": {
  "kernelspec": {
   "display_name": "Python 3",
   "language": "python",
   "name": "python3"
  },
  "language_info": {
   "codemirror_mode": {
    "name": "ipython",
    "version": 3
   },
   "file_extension": ".py",
   "mimetype": "text/x-python",
   "name": "python",
   "nbconvert_exporter": "python",
   "pygments_lexer": "ipython3",
   "version": "3.10.18"
  }
 },
 "nbformat": 4,
 "nbformat_minor": 5
}
